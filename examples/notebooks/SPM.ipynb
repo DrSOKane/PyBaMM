{
 "cells": [
  {
   "cell_type": "markdown",
   "metadata": {},
   "source": [
    "# Single Particle Model (SPM) "
   ]
  },
  {
   "cell_type": "markdown",
   "metadata": {},
   "source": [
    "## Model Equations"
   ]
  },
  {
   "cell_type": "markdown",
   "metadata": {},
   "source": [
    "The SPM consists of two spherically symmetric diffusion equations: one within a representative negative particle ($k=\\text{n}$) and one within a representative positive particle ($k=\\text{p}$). In the centre of the particle the classical no-flux condition is imposed. Since the SPM assumes that all particles in an electrode behave in exactly the same way, the flux on the surface of a particle is simply the current divided by the thickness of the electrode. We shall use $r_k\\in[0,1]$ for the radial coordinate of the particle in electrode $k$. The concentration of lithium in electrode $k$ is denoted $c_k$ and the current is denoted by $\\mathcal{I}$. All parameters in the model stated here are dimensionless and are given in terms of dimensional parameters at the end of this notebook.The model equations for the SPM are then: \n",
    "$$\n",
    "\\frac{\\partial c_k}{\\partial t} = \\gamma_k \\frac{\\partial}{\\partial r_k}\\left( r_k^2 \\frac{\\partial c_k}{\\partial r_k} \\right) \\\\ \n",
    "\\frac{\\partial c_k}{\\partial r_k}\\bigg|_{r_k=0} = 0, \\quad -\\beta_k \\hat{C}_k \\gamma_k \\frac{\\partial c_k}{\\partial r_k}\\bigg|_{r_k=1} = \\begin{cases} \n",
    "    \\frac{\\mathcal{I}}{L_n}, \\quad k=\\text{n}, \\\\ \n",
    "    -\\frac{\\mathcal{I}}{L_p}, \\quad k=\\text{p},\n",
    "\\end{cases} ,\n",
    "$$ \n",
    "for $k\\in\\{\\text{n, p}\\}$.\n",
    "\n",
    "### Voltage Expression\n",
    "The terminal voltage is obtained from the expression: \n",
    "$$\n",
    "V = U_p(c_p)\\big|_{r_p=1}-U_n(c_n)\\big|_{r_n=1}-\\frac{2}{\\Lambda}\\sinh^{-1}\\left(\\frac{\\mathcal{I}}{g_p L_p} \\right)  -\\frac{2}{\\Lambda}\\sinh^{-1}\\left(\\frac{\\mathcal{I}}{g_n L_n} \\right)\n",
    "$$\n",
    "with the exchange current densities given by\n",
    "$$\n",
    "g_k = m_k \\hat{C}_k (c_k)^{1/2} (1-c_k)^{1/2}, \\quad \\text{for } k\\in\\{\\text{n, p}\\}.\n",
    "$$"
   ]
  },
  {
   "cell_type": "markdown",
   "metadata": {},
   "source": [
    "## Example"
   ]
  },
  {
   "cell_type": "code",
   "execution_count": null,
   "metadata": {},
   "outputs": [],
   "source": [
    "import pybamm"
   ]
  },
  {
   "cell_type": "markdown",
   "metadata": {},
   "source": [
    "## Dimensionless Parameters \n",
    "We provide here the dimensionless parameters in the SPM in terms of the dimensional parameters in LCO.csv. We use a superscript * to indicate dimensional quanitities here. We have\n",
    "$$\n",
    "\\gamma_k = \\frac{F^* c_{\\text{n,max}}^* L_x^* D_k^*}{I^* (R_k^*)^2}, \\quad \n",
    "\\beta_k= a_k^*R_k^*, \\quad \n",
    "\\hat{C}_k=\\frac{c_\\text{k,max}^*}{c_{\\text{n,max}}^*} \\quad \n",
    "L_k = \\frac{L_k^*}{L_x}, \\\\\n",
    "\\Lambda = \\frac{F^* \\Phi^*}{R^* T_{\\text{ref}}^*},\\quad \n",
    "c_{k,0} = \\frac{c_{k,0}^*}{c_{k,\\text{max}}^*} \\quad \n",
    "m_k = \\frac{m_k^* c_{\\text{n,max}}^* (c_{\\text{e,typ}}^*)^{1/2} a_k^*}{I^*}\n",
    "$$"
   ]
  }
 ],
 "metadata": {
  "kernelspec": {
   "display_name": "Python 3",
   "language": "python",
   "name": "python3"
  },
  "language_info": {
   "codemirror_mode": {
    "name": "ipython",
    "version": 3
   },
   "file_extension": ".py",
   "mimetype": "text/x-python",
   "name": "python",
   "nbconvert_exporter": "python",
   "pygments_lexer": "ipython3",
   "version": "3.6.7"
  }
 },
 "nbformat": 4,
 "nbformat_minor": 2
}
