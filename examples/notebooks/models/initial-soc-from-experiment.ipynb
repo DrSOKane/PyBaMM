{
 "cells": [
  {
   "cell_type": "code",
   "execution_count": 1,
   "id": "ab2f46c3",
   "metadata": {},
   "outputs": [],
   "source": [
    "import pybamm\n",
    "import numpy as np\n",
    "import pandas as pd\n",
    "import matplotlib.pyplot as plt"
   ]
  },
  {
   "cell_type": "code",
   "execution_count": null,
   "id": "b770ac05",
   "metadata": {},
   "outputs": [],
   "source": [
    "model = pybamm.lithium_ion.SPMe({\"SEI\": \"reaction limited\"})\n",
    "param = pybamm.ParameterValues(\"OKane2022\")\n",
    "param.update({\"SEI reaction exchange current density [A.m-2]\": 1e-5})\n",
    "exp = pybamm.Experiment([\"Discharge at C/3 until 2.5 V\", \"Charge at C/3 until 4.2 V\", \"Hold at 4.2 V until C/10\"])\n",
    "sim1 = pybamm.Simulation(model, parameter_values=param, experiment=exp)\n",
    "sol1 = sim1.solve()"
   ]
  }
 ],
 "metadata": {
  "kernelspec": {
   "display_name": "Python 3 (ipykernel)",
   "language": "python",
   "name": "python3"
  },
  "language_info": {
   "codemirror_mode": {
    "name": "ipython",
    "version": 3
   },
   "file_extension": ".py",
   "mimetype": "text/x-python",
   "name": "python",
   "nbconvert_exporter": "python",
   "pygments_lexer": "ipython3",
   "version": "3.8.10"
  }
 },
 "nbformat": 4,
 "nbformat_minor": 5
}
