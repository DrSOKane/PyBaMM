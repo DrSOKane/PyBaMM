{
 "cells": [
  {
   "cell_type": "markdown",
   "metadata": {},
   "source": [
    "# Doyle-Fuller-Newman (DFN) Model"
   ]
  },
  {
   "cell_type": "markdown",
   "metadata": {},
   "source": [
    "## Dimensionless Model Equations"
   ]
  },
  {
   "cell_type": "markdown",
   "metadata": {},
   "source": [
    "Here we simply state the dimensionless form of the standard DFN model. For more information please see [1] or other classical texts. \n",
    "\n",
    "#### Electrolyte Concentration\n",
    "\n",
    "$$\n",
    "\\delta \\epsilon_k \\frac{\\partial c_{\\text{e},k}}{\\partial t} = -\\frac{\\partial N_{\\text{e},k}}{\\partial x} + \\delta \\nu (1-t^+) \\frac{\\partial i_{\\text{e},k}}{ \\partial x}, \\\\ \n",
    "N_{\\text{e},k} = -\\epsilon_k^b  D_e(c_{\\text{e},k})  \\frac{\\partial c_{\\text{e},k}}{\\partial x}\\\\\n",
    "    N_{\\text{e,n}}\\big|_{x=0}= N_{\\text{e,p}}\\big|_{x=1}=0, \\\\ \n",
    "    c_{\\text{e},k}\\big|_{t=0} = 1\n",
    "$$ \n",
    "\n",
    "#### Electrolyte Current \n",
    "\n",
    "$$\n",
    "\\frac{\\partial i_{\\text{e},k}}{\\partial x} = \\begin{cases}\n",
    "                        G_{k}, \\quad &k=\\text{n, p},\\\\ \n",
    "                        0, \\quad &k=\\text{s},\n",
    "                        \\end{cases} \\\\\n",
    "                        \\delta \\nu i_{\\text{e},k} = \\epsilon_k^b \\sigma_\\text{e}(c_{\\text{e},k}) \\left( - \\Lambda \\frac{\\partial\\phi_{\\text{e},k}}{\\partial x} + 2(1-t^+) \\frac{\\partial}{\\partial x}\\left(\\log(c_{\\text{e},k})\\right)\\right)\\\\\n",
    "i_{\\text{e,n}}\\big|_{x=0}= i_{\\text{e,p}}\\big|_{x=1}=0,\n",
    "$$\n",
    "\n",
    "#### Electrode Current \n",
    "\n",
    "\\begin{align} \n",
    "\\frac{\\partial i_{k}}{\\partial x} &= -G_{k},\\\\\n",
    "                        i_{k} &= -\\sigma_k\\frac{\\partial\\phi_{k}}{\\partial x}\n",
    "\\end{align}\n",
    "$$\n",
    "i_{\\text{n}}\\big|_{x=0}= i_{\\text{p}}\\big|_{x=1}=\\mathcal{I},\n",
    "$$\n",
    "\n",
    "\n",
    "#### Particles \n",
    "\n",
    "$$\n",
    "\\frac{\\partial c_k}{\\partial t} = \\gamma_k \\frac{\\partial}{\\partial r_k}\\left( r_k^2 \\frac{\\partial c_k}{\\partial r_k} \\right) \\\\ \n",
    "\\frac{\\partial c_k}{\\partial r_k}\\bigg|_{r_k=0} = 0, \\quad -\\beta_k \\hat{C}_k \\gamma_k \\frac{\\partial c_k}{\\partial r_k}\\bigg|_{r_k=1} = G_k \\\\ \n",
    "c_k\\big|_{t=0} = c_{k,0}\n",
    "$$ \n",
    "\n",
    "\n",
    "#### Electrochemical Reactions\n",
    "\n",
    "$$\n",
    "G_k = g_k \\sinh\\left(\\frac{\\Lambda \\eta_k}{2} \\right), \\quad \n",
    "g_k = m_k \\hat{C}_k c_k^{1/2} (1-c_k)^{1/2}c_{ek}^{1/2}\\big|_{r_k=1}, \\quad\n",
    "\\eta_k = \\phi_k - \\phi_{ek} - U_k(c_k)\\big|_{r_k=1},\n",
    "$$\n"
   ]
  },
  {
   "cell_type": "markdown",
   "metadata": {},
   "source": [
    "## Example"
   ]
  },
  {
   "cell_type": "code",
   "execution_count": null,
   "metadata": {},
   "outputs": [],
   "source": [
    "import pybamm"
   ]
  },
  {
   "cell_type": "markdown",
   "metadata": {},
   "source": [
    "## Dimensionless Parameters"
   ]
  },
  {
   "cell_type": "markdown",
   "metadata": {},
   "source": [
    "We provide here the dimensionless parameters in the DFN in terms of the dimensional parameters in LCO.csv. We use a superscript * to indicate dimensional quanitities. We have\n",
    "\\begin{gather}\n",
    "\\gamma_k = \\frac{F^* c_{\\text{n,max}}^* L_x^* D_k^*}{I^* (R_k^*)^2}, \\quad \n",
    "\\beta_k= a_k^*R_k^*, \\quad \n",
    "\\hat{C}_k=\\frac{c_\\text{k,max}^*}{c_{\\text{n,max}}^*} \\quad \n",
    "L_k = \\frac{L_k^*}{L_x}, \\quad\n",
    "\\Lambda = \\frac{F^* \\Phi^*}{R^* T_{\\text{ref}}^*}, \\quad \n",
    "c_{k,0} = \\frac{c_{k,0}^*}{c_{k,\\text{max}}^*}, \\\\\n",
    "m_k = \\frac{m_k^* c_{\\text{n,max}}^* (c_{\\text{e,typ}}^*)^{1/2} a_k^*}{I^*}, \\quad \n",
    "\\delta = \\frac{L^* I^*}{F^* D_{\\text{e,typ}}^* c_{\\text{n,max}}^*}, \\quad \n",
    "\\nu = \\frac{c_{\\text{n, max}}^*}{c_{\\text{e,typ}}^*} , \\quad \n",
    "\\sigma_k = \\frac{\\sigma_k^* \\Phi^*}{I^* L_x^*}\n",
    "\\end{gather} \n",
    "\n",
    "We note that the dimensionless parameters $\\epsilon_k$, $b$, and $t^+$ are already provided in the parameter file LCO.csv.  "
   ]
  },
  {
   "cell_type": "markdown",
   "metadata": {},
   "source": [
    "## References\n",
    "[1] Doyle, Marc, Thomas F. Fuller, and John Newman. \"Modeling of galvanostatic charge and discharge of the lithium/polymer/insertion cell.\" Journal of the Electrochemical Society 140.6 (1993): 1526-1533."
   ]
  }
 ],
 "metadata": {
  "kernelspec": {
   "display_name": "Python 3",
   "language": "python",
   "name": "python3"
  },
  "language_info": {
   "codemirror_mode": {
    "name": "ipython",
    "version": 3
   },
   "file_extension": ".py",
   "mimetype": "text/x-python",
   "name": "python",
   "nbconvert_exporter": "python",
   "pygments_lexer": "ipython3",
   "version": "3.6.7"
  }
 },
 "nbformat": 4,
 "nbformat_minor": 2
}
