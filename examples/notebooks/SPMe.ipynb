{
 "cells": [
  {
   "cell_type": "markdown",
   "metadata": {},
   "source": [
    "# Single Particle Model with Electrolyte (SPMe)"
   ]
  },
  {
   "cell_type": "markdown",
   "metadata": {},
   "source": [
    "## Dimensionless Model Equations"
   ]
  },
  {
   "cell_type": "markdown",
   "metadata": {},
   "source": [
    "The SPMe consists of two spherically symmetric diffusion equations: one within a representative negative particle ($k=\\text{n}$) and one within a representative positive particle ($k=\\text{p}$) and a diffusion equation within the electrolyte. In the centre of each particle the classical no-flux condition is imposed and the flux on the surface of the particle is simply the current divided by the thickness of the electrode. Since lithium is transferred between the electrolyte and particles, the flux through the particle surface also enters the electrolyte diffusion equation as a source/sink. The boundary conditions on the electrolyte model are no flux at each current collector to represent no transfer of lithium between the electrolyte and current collectors. We shall use $r_k\\in[0,1]$ for the radial coordinate of the particle in electrode $k$ and $x\\in[0,1]$ for the macroscopic through cell distance. The concentration of lithium in electrode $k$ is denoted $c_k$ and the concentration of lithium ions in the electrolyte within the $k$ electrode region is denoted $c_{\\text{e},k}$. We also denote the flux of lithium ions in the electrolyte within the $k$ electrode region by $N_{\\text{e},k}$ and the current by $\\mathcal{I}$. All parameters in the model stated here are dimensionless and are given in terms of dimensional parameters at the end of this notebook. The model equations of the SPMe are then: \n",
    "\n",
    "#### Particles: \n",
    "$$\n",
    "\\frac{\\partial c_k}{\\partial t} = \\gamma_k \\frac{\\partial}{\\partial r_k}\\left( r_k^2 \\frac{\\partial c_k}{\\partial r_k} \\right) \\\\ \n",
    "\\frac{\\partial c_k}{\\partial r_k}\\bigg|_{r_k=0} = 0, \\quad -\\beta_k \\hat{C}_k \\gamma_k \\frac{\\partial c_k}{\\partial r_k}\\bigg|_{r_k=1} = \\begin{cases} \n",
    "    \\frac{\\mathcal{I}}{L_n}, \\quad k=\\text{n}, \\\\ \n",
    "    -\\frac{\\mathcal{I}}{L_p}, \\quad k=\\text{p},\n",
    "\\end{cases},\n",
    "$$ \n",
    "for $k\\in\\{\\text{n, p}\\}$. \n",
    "\n",
    "#### Electrolyte: \n",
    "$$ \n",
    "\\delta \\epsilon_k \\frac{\\partial c_{\\text{e},k}}{\\partial t} = - \\frac{\\partial N_{\\text{e},k}}{\\partial c} + \n",
    "\\begin{cases} \n",
    "    \\nu (1-t^+) \\frac{\\mathcal{I}}{L_n}, \\quad &\\text{in negative electrode region}, \\\\\n",
    "    0, \\quad &\\text{in separator region}, \\\\ \n",
    "    -\\nu(1-t^+)\\frac{\\mathcal{I}}{L_p}, \\quad &\\text{in positive electrode region}\n",
    "\\end{cases}, \\\\ \n",
    "N_{\\text{e},k} = - \\epsilon_k^b D_e(1) \\frac{\\partial c_{\\text{e},k}}{\\partial x}, \\\\ \n",
    "N_{\\text{e,n}}\\big|_{x=0} = 0, \\quad N_{\\text{e,p}}\\big|_{x=1}=0\n",
    "$$ \n",
    "for $k\\in\\{\\text{n, s, p}\\}$. \n",
    "\n",
    "### Voltage Expression\n",
    "The terminal voltage is obtained from the expression: \n",
    "$$ \n",
    "V = U_{\\text{eq}} + \\eta_r + \\eta_c + \\Delta\\Phi_{\\text{Elec}} + \\Delta\\Phi_{\\text{Solid}}\n",
    "$$ \n",
    "where \n",
    "\\begin{align}\n",
    "& U_{\\text{eq}} = U_p(c_p)\\big|_{r_p=1} - U_n(c_n)\\big|_{r_n=1}, \\\\ \n",
    "     &\\eta_{r} = -\\frac{2}{\\Lambda}\\sinh^{-1}\\left(\\frac{\\mathcal{I}}{\\bar{g}_p L_n}\\right)\n",
    "     -\\frac{2}{\\Lambda}\\sinh^{-1}\\left(\\frac{\\mathcal{I}}{\\bar{g}_n L_n}\\right), \\\\\n",
    "     &\\eta_c =  \\frac{2 \\delta (1-t^+)}{\\Lambda}\\left(\\bar{c}_{ep} - \\bar{c}_{en}\\right), \\\\\n",
    "     \\label{eqn:SPMe:negative_exchange}\n",
    "     &\\bar{g}_n =  \\frac{1}{L_n}\\int_0^{L_n} m_n \\hat{C}_n (c_n)^{1/2}(1-c_n)^{1/2} (1+\\delta c_{en})^{1/2} \\, \\text{d}x, \\\\\n",
    "     \\label{eqn:SPMe:positive_exchange}\n",
    "    &\\bar{g}_p =  \\frac{1}{L_p}\\int_{1-L_p}^{1} m_p \\hat{C}_p  (c_p)^{1/2}(1-c_p)^{1/2} (1+\\delta c_{ep} )^{1/2} \\, \\text{d}x, \\\\\n",
    "    &\\Delta \\Phi_{\\text{Elec}}= -\\frac{\\delta \\nu \\mathcal{I}}{\\Lambda \\sigma_e(1)}\\left(\\frac{L_n}{3\\epsilon_n^b} + \\frac{L_s}{\\epsilon_{s}^b} + \\frac{L_p}{3\\epsilon_p^b} \\right),\n",
    "     \\label{eqn:SPMe:electrolyte_ohmic_losses} \\\\\n",
    "     &\\Delta \\Phi_{\\text{Solid}} =  -\\frac{\\mathcal{I}}{3}\\left(\\frac{L_p}{\\sigma_p} + \\frac{L_n}{\\sigma_n} \\right), \n",
    "\\end{align} \n",
    "with \n",
    "\\begin{equation} \n",
    "    \\bar{c}_{\\text{e},n} =  \\frac{1}{L_n}\\int_0^{L_n} c_{\\text{e},n} \\, \\text{d}x, \\quad\n",
    "    \\bar{c}_{\\text{e},p} =  \\frac{1}{L_p}\\int_{1-L_p}^{1} c_{\\text{e},p} \\, \\text{d}x,\n",
    "\\end{equation} \n"
   ]
  },
  {
   "cell_type": "markdown",
   "metadata": {},
   "source": [
    "## Example"
   ]
  },
  {
   "cell_type": "code",
   "execution_count": null,
   "metadata": {},
   "outputs": [],
   "source": [
    "import pybamm"
   ]
  },
  {
   "cell_type": "markdown",
   "metadata": {},
   "source": [
    "## Dimensionless Parameters"
   ]
  },
  {
   "cell_type": "markdown",
   "metadata": {},
   "source": [
    "We provide here the dimensionless parameters in the SPMe in terms of the dimensional parameters in LCO.csv. We use a superscript * to indicate dimensional quanitities. We have\n",
    "\\begin{gather}\n",
    "\\gamma_k = \\frac{F^* c_{\\text{n,max}}^* L_x^* D_k^*}{I^* (R_k^*)^2}, \\quad \n",
    "\\beta_k= a_k^*R_k^*, \\quad \n",
    "\\hat{C}_k=\\frac{c_\\text{k,max}^*}{c_{\\text{n,max}}^*} \\quad \n",
    "L_k = \\frac{L_k^*}{L_x}, \\quad \n",
    "\\Lambda = \\frac{F^* \\Phi^*}{R^* T_{\\text{ref}}^*}, \\quad \n",
    "c_{k,0} = \\frac{c_{k,0}^*}{c_{k,\\text{max}}^*} \\\\\n",
    "m_k = \\frac{m_k^* c_{\\text{n,max}}^* (c_{\\text{e,typ}}^*)^{1/2} a_k^*}{I^*}, \\quad \n",
    "\\delta = \\frac{L^* I^*}{F^* D_{\\text{e,typ}}^* c_{\\text{n,max}}^*}, \\quad \n",
    "\\nu = \\frac{c_{\\text{n, max}}^*}{c_{\\text{e,typ}}^*} , \\quad \n",
    "\\sigma_k = \\frac{\\sigma_k^* \\Phi^*}{I^* L_x^*}\n",
    "\\end{gather} \n",
    "\n",
    "We note that the dimensionless parameters $\\epsilon_k$, $b$, and $t^+$ are already provided in the parameter file LCO.csv.  "
   ]
  }
 ],
 "metadata": {
  "kernelspec": {
   "display_name": "Python 3",
   "language": "python",
   "name": "python3"
  },
  "language_info": {
   "codemirror_mode": {
    "name": "ipython",
    "version": 3
   },
   "file_extension": ".py",
   "mimetype": "text/x-python",
   "name": "python",
   "nbconvert_exporter": "python",
   "pygments_lexer": "ipython3",
   "version": "3.6.7"
  }
 },
 "nbformat": 4,
 "nbformat_minor": 2
}
